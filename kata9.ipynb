{
  "cells": [
    {
      "cell_type": "markdown",
      "metadata": {},
      "source": [
        "# Ejercicio: Uso de funciones en Python"
      ]
    },
    {
      "cell_type": "markdown",
      "metadata": {},
      "source": [
        "### Ejercicio 1: Trabajar con argumentos en funciones\n",
        "\n",
        "Los argumentos requeridos en las funciones se utilizan cuando las funciones necesitan que esos argumentos funcionen correctamente. En este ejercicio, construirás un informe de combustible que requiere información de varias ubicaciones de combustible en todo el cohete.\n",
        "\n"
      ]
    },
    {
      "cell_type": "markdown",
      "metadata": {},
      "source": [
        "> **TIP**\n",
        "> Dedica unos minutos para tratar de encontrar una solución. Luego desplázate hacia abajo hasta la parte inferior para ver si has logrado compilar el programa de acuerdo con las especificaciones\n",
        "\n",
        "Comienza por crear una función que necesite tres lecturas de combustible y devuelva un informe:"
      ]
    },
    {
      "cell_type": "code",
      "execution_count": 1,
      "metadata": {},
      "outputs": [],
      "source": [
        "# Función para leer 3 tanques de combustible y muestre el promedio\n",
        "def Generar_reporte(tanque1, tanque2, tanque3):\n",
        "    total_promedio = (tanque1 + tanque2 + tanque3) / 3\n",
        "    return f\"\"\"Informe de combustible:\n",
        "    Total promedio: {total_promedio}%\n",
        "    tanque1: {tanque1}%\n",
        "    tanque2: {tanque2}%\n",
        "    tanque3: {tanque3}% \n",
        "    \"\"\""
      ]
    },
    {
      "cell_type": "markdown",
      "metadata": {},
      "source": [
        "Ahora que hemos definido la función de informes, vamos a comprobarlo. Para esta misión, los tanques no están llenos:"
      ]
    },
    {
      "cell_type": "code",
      "execution_count": 2,
      "metadata": {},
      "outputs": [
        {
          "name": "stdout",
          "output_type": "stream",
          "text": [
            "Informe de combustible:\n",
            "    Total promedio: 55.0%\n",
            "    tanque1: 40%\n",
            "    tanque2: 50%\n",
            "    tanque3: 75% \n",
            "    \n"
          ]
        }
      ],
      "source": [
        "\n",
        "# Llamamos a la función que genera el reporte print(funcion(tanque1, tanque2, tanque3))\n",
        "print(Generar_reporte(40, 50, 75))"
      ]
    },
    {
      "cell_type": "markdown",
      "metadata": {},
      "source": [
        "En lugar de simplemente crear el informe, la función también está calculando el promedio. Mejora la legibilidad extrayendo el cálculo promedio de la función en una nueva función para que el promedio se pueda hacer de forma independiente:"
      ]
    },
    {
      "cell_type": "code",
      "execution_count": 5,
      "metadata": {},
      "outputs": [
        {
          "data": {
            "text/plain": [
              "82.0"
            ]
          },
          "execution_count": 5,
          "metadata": {},
          "output_type": "execute_result"
        }
      ],
      "source": [
        "# Función promedio \n",
        "def promedio(values):\n",
        "    total = sum(values)\n",
        "    num_elementos = len(values)\n",
        "    return total / num_elementos\n",
        "\n",
        "promedio([80, 85, 81])"
      ]
    },
    {
      "cell_type": "markdown",
      "metadata": {},
      "source": [
        "Ahora actualiza la función de informes para llamando a la nueva función del promedio:\n"
      ]
    },
    {
      "cell_type": "code",
      "execution_count": 6,
      "metadata": {},
      "outputs": [
        {
          "name": "stdout",
          "output_type": "stream",
          "text": [
            "Informe de combustible:\n",
            "    Total promedio: 72.0%\n",
            "    tanque1: 90%\n",
            "    tanque2: 66%\n",
            "    tanque3: 60% \n",
            "    \n"
          ]
        }
      ],
      "source": [
        "# Actualiza la función\n",
        "def Generar_reporte(tanque1, tanque2, tanque3):\n",
        "    return f\"\"\"Informe de combustible:\n",
        "    Total promedio: {promedio([tanque1, tanque2, tanque3])}%\n",
        "    tanque1: {tanque1}%\n",
        "    tanque2: {tanque2}%\n",
        "    tanque3: {tanque3}% \n",
        "    \"\"\"\n",
        "\n",
        "print(Generar_reporte(90, 66, 60))\n"
      ]
    },
    {
      "cell_type": "markdown",
      "metadata": {},
      "source": [
        "> Recuerda: Lo importante es intentarlo, puedes auxiliarte de internet, libros, etc. El objetivo de una kata es la comprobación de la comprensión de la lección y su aplicación inmediata a la resolución de problemas. Go for it!"
      ]
    },
    {
      "cell_type": "markdown",
      "metadata": {},
      "source": [
        "## Ejercicio 2: Trabajo con argumentos de palabra clave"
      ]
    },
    {
      "cell_type": "markdown",
      "metadata": {},
      "source": [
        "### Ejercicio : Trabajar con argumentos de palabras clave en funciones\n",
        "En este ejercicio, construirás un informe de cohete que requiere varias piezas de información, como el tiempo hasta el destino, el combustible a la izquierda y el nombre del destino. Comienza por crear una función que creará un informe preciso de la misión:"
      ]
    },
    {
      "cell_type": "code",
      "execution_count": 7,
      "metadata": {},
      "outputs": [
        {
          "name": "stdout",
          "output_type": "stream",
          "text": [
            "\n",
            "    Mision a Moon\n",
            "    Tiempo de vuelo: 21 min\n",
            "    Combustible restante: 300000 galones\n",
            "    \n"
          ]
        }
      ],
      "source": [
        "# Función con un informe preciso de la misión. Considera hora de prelanzamiento, tiempo de vuelo, destino, tanque externo y tanque interno\n",
        "def ReporteMision(horaPreLanzamiento, horaVuelo, destino, external_tank, main_tank):\n",
        "    return f\"\"\"\n",
        "    Mision a {destino}\n",
        "    Tiempo de vuelo: {horaPreLanzamiento + horaVuelo} min\n",
        "    Combustible restante: {external_tank + main_tank} galones\n",
        "    \"\"\"\n",
        "\n",
        "print(ReporteMision(10, 11, \"Moon\", 100000, 200000))"
      ]
    },
    {
      "cell_type": "markdown",
      "metadata": {},
      "source": [
        "La función es problemática porque no se puede adaptar para minutos adicionales o tanques adicionales de combustible. Hazlo más flexible permitiendo cualquier número de pasos basados en el tiempo y cualquier número de tanques. En lugar de usar `*args` y `**kwargs`, aprovecha el hecho de que puedes usar cualquier nombre que desees. Asegurate que la función sea más legible mediante el uso de nombres de variables que están asociados con las entradas, como `*minutes` y `**fuel_reservoirs`:"
      ]
    },
    {
      "cell_type": "code",
      "execution_count": 8,
      "metadata": {},
      "outputs": [
        {
          "name": "stdout",
          "output_type": "stream",
          "text": [
            "\n",
            "    Mision a Moon\n",
            "    Tiempo de vuelo: 84 min\n",
            "    Combustible restante: 400000galones\n",
            "    \n"
          ]
        }
      ],
      "source": [
        "# Escribe tu nueva función de reporte considerando lo anterior\n",
        "def ReporteMision(destino, *minutes, **fuel_reservoirs):\n",
        "    return f\"\"\"\n",
        "    Mision a {destino}\n",
        "    Tiempo de vuelo: {sum(minutes)} min\n",
        "    Combustible restante: {sum(fuel_reservoirs.values())}galones\n",
        "    \"\"\"\n",
        "\n",
        "print(ReporteMision(\"Moon\", 13, 11, 60, main=200000, external=200000))"
      ]
    },
    {
      "cell_type": "markdown",
      "metadata": {},
      "source": [
        "Debido a que el combustible que queda en los tanques es específico de cada tanque, actualiza la función para usar el nombre de cada tanque en el informe:"
      ]
    },
    {
      "cell_type": "code",
      "execution_count": 9,
      "metadata": {},
      "outputs": [
        {
          "name": "stdout",
          "output_type": "stream",
          "text": [
            "\n",
            "    Mision a Moon\n",
            "    Tiempo de vuelo: 74 min\n",
            "    Combustible restante: 500000galones\n",
            "    main tank : 300000 galones restantes\n",
            "external tank : 200000 galones restantes\n",
            "\n"
          ]
        }
      ],
      "source": [
        "# Escribe tu nueva función\n",
        "def ReporteMision(destino, *minutes, **fuel_reservoirs):\n",
        "    main_report = f\"\"\"\n",
        "    Mision a {destino}\n",
        "    Tiempo de vuelo: {sum(minutes)} min\n",
        "    Combustible restante: {sum(fuel_reservoirs.values())}galones\n",
        "    \"\"\"\n",
        "    for tank_name, gallons in fuel_reservoirs.items():\n",
        "        main_report += f\"{tank_name} tank : {gallons} galones restantes\\n\"\n",
        "    return main_report\n",
        "\n",
        "print(ReporteMision(\"Moon\", 8, 11, 55, main=300000, external=200000))"
      ]
    }
  ],
  "metadata": {
    "interpreter": {
      "hash": "205095b8b86ea82a021a8fc2ffba2b3bc9f8d0be25999901963b225939f75778"
    },
    "kernelspec": {
      "display_name": "Python 3.8.10 64-bit ('tmp': conda)",
      "name": "python3"
    },
    "language_info": {
      "codemirror_mode": {
        "name": "ipython",
        "version": 3
      },
      "file_extension": ".py",
      "mimetype": "text/x-python",
      "name": "python",
      "nbconvert_exporter": "python",
      "pygments_lexer": "ipython3",
      "version": "3.9.6"
    },
    "nteract": {
      "version": "nteract-front-end@1.0.0"
    },
    "orig_nbformat": 4
  },
  "nbformat": 4,
  "nbformat_minor": 2
}
